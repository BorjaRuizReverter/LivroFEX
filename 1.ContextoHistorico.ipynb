{
 "cells": [
  {
   "cell_type": "markdown",
   "metadata": {},
   "source": [
    "# CAPÍTULO 1: Contexto Histórico\n",
    "\n",
    "1. Introdução \n",
    "\n",
    "Da mesma maneira que, qualquer corpo em queda livre é empurrado até o chão sob um campo gravitacional, ou um dipolo, por simples que seja, se orienta espontaneamente no seno de um campo elétrico, na procura igualmente de um mínimo de energia potencial, a vida, composta por moléculas orgânicas complexas, segue suas propias leis físicas (biofísicas neste caso), regidas pelos mismos principios de optimização (maximização/minimização) de alguma grandeza física escalar relacionada. Qualquer ser vivo, de fato, é uma entidade completamente adaptada a seu ambiente, e interage com ele integralmente para extrair a máxima informação e assim agir em consequência da maneira mais eficiente póssivel, pois qualquer erro pode ser fatal. \n",
    "\n",
    "Dentro dos seres vivos, o homo sapiens é a especie mais desenvolvida na face da Terra. Entretanto, seu comportamento não dista demasiado de qualquer outro ser vivo. Lá nos albores da humanidade, desde os australopitecus até o homo neodeardental, todos eles eram seres extremamente observadores e doctos em como interpretar o ambiente ao seu redor. \n",
    "\n",
    "Se toda especie interage com seu méio através dos sentidos e age em consequência, pode parecer que, desse ponto de vista, não há diferença entre uma especie e outra. Entretanto, sabemos que a  especie humana se caracteriza por ter algo extraordinário, que a diferencia do resto das especies: a razão.\n",
    "\n",
    "Neste ponto resulta pertinente analisar mais profundamenta essa alegação, pois é bem habitual razão com inteligência e, a partir, dai, escutar declarações como \"Meu cachorro é super inteligente!\" ou \"As formigas são a especie mais inteligente na Terra\". Bem verdade. Porém, é para salientar que eles, como muitas outras especies, agem dessa maneira porque observam através dos olhos, escutam através dos ouvidos ou interpretam sinais químicas de parceiros e são capaces de lembrar como sua ação ulterior estava associada a um sucesso ou a um fracaso.\n",
    "\n",
    "A pesar de que essa, é a maneira mais natural de aprendizado, pois envolvem os sentidos, ou o que em Filósofia se conhece como **experiência**, a outra forma de aprendizado, o uso da razão, apenas é desenvolvida por humanos, pois ela está associada ao uso da matemática. \n",
    "\n",
    "2. O Mitos\n",
    "\n",
    "O uso da razão na especie humana não é algo que apareceu da noite para o dia. Ao contrario, tratou-se de um processo que levou milenios de evolução. \n",
    "\n",
    "Essa evoluação foi possível graças às mudanças de habitos da especie humana. Inicialmente, os primeiros primates eram fundamentalmente caçadores-coletores; tarefas que consumiam integralmente um dos mais importantes recursos escassos que existem: o tempo. Nesse estágio, eles eram maiormente dominados pela Natureza, pois deviam migrar constantemente para optimizar recursos. Entretanto, a especialização e constante melhora das técnica e das ferramentas que empregavam permitiu uma radical mudança de hábitos. Eis que em algum momento da prehistória, o homem começou a se asentar em comunas permanentes, tipicamente perto de fontes de agua dulce e de terras productivas. Dessa maneira, não era mais necessário caçar ou recoletar, pois tudo podia ser produzido \"em casa\". E, sendo assim, ora o homem era quem dominava a Natureza e, com isso, aproveitar melhor o tempo. \n",
    "\n",
    "Essa mudança de hábitos trouxe uma vida menos arrisgada e extrema. A fontes de água próximas também incrementaram a higiene, diminuindo com isso o número de doenças, ou que provocou um aumento das populações.\n",
    "\n",
    "Isso, por sua vez, trouxe problemas de convivencia. Os homens começaram a precisar de regras escritas. Também, o maior tempo sobrante lhes permitia liberar sua curiosidade inata. Transmitir o conhecimento tornou-se também uma necessidade. A escrita em pedra já era usada desde muito tempo atrás\n",
    "\n",
    "3. O Logos\n",
    "\n",
    "4. O método científico\n"
   ]
  },
  {
   "cell_type": "markdown",
   "metadata": {},
   "source": []
  }
 ],
 "metadata": {
  "language_info": {
   "name": "python"
  }
 },
 "nbformat": 4,
 "nbformat_minor": 2
}
