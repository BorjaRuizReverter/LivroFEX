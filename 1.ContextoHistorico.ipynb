{
 "cells": [
  {
   "cell_type": "markdown",
   "metadata": {},
   "source": [
    "# CAPÍTULO 1: Contexto Histórico\n",
    "\n",
    "1. Introdução \n",
    "\n",
    "Da mesma maneira que, qualquer corpo em queda livre é empurrado até o chão sob um campo gravitacional, ou um dipolo, por simples que seja, se orienta espontaneamente no seno de um campo elétrico, na procura igualmente de um mínimo de energia potencial, a vida, composta por moléculas orgânicas complexas, segue suas propias leis físicas (biofísicas neste caso), regidas pelos mismos principios de optimização (maximização/minimização) de alguma grandeza física escalar relacionada. Qualquer ser vivo, de fato, é uma entidade completamente adaptada a seu ambiente, e interage com ele integralmente para extrair a máxima informação e assim agir em consequência da maneira mais eficiente póssivel, pois qualquer erro pode ser fatal. \n",
    "\n",
    "Dentro dos seres vivos, o homo sapiens é a especie mais desenvolvida na face da Terra. Entretanto, seu comportamento não dista demasiado de qualquer outro ser vivo. Lá nos albores da humanidade, desde os australopitecus até o homo neodeardental, todos eles eram seres extremamente observadores e doctos em como interpretar o ambiente ao seu redor. \n",
    "\n",
    "Se toda especie interage com seu méio através dos sentidos e age em consequência, pode parecer que, desse ponto de vista, não há diferença entre uma especie e outra. Entretanto, sabemos que a  especie humana se caracteriza por ter algo extraordinário, que a diferencia do resto das especies: a razão.\n",
    "\n",
    "Neste ponto resulta pertinente analisar mais profundamenta essa alegação, pois é bem habitual razão com inteligência e, a partir, dai, escutar declarações como \"Meu cachorro é super inteligente!\" ou \"As formigas são a especie mais inteligente na Terra\". Bem verdade. Porém, é para salientar que eles, como muitas outras especies, agem dessa maneira porque observam através dos olhos, escutam através dos ouvidos ou interpretam sinais químicas de parceiros e são capaces de lembrar como sua ação ulterior estava associada a um sucesso ou a um fracaso.\n",
    "\n",
    "A pesar de que essa, é a maneira mais natural de aprendizado, pois envolvem os sentidos, ou o que em Filósofia se conhece como **experiência**, a outra forma de aprendizado, o uso da razão, apenas é desenvolvida por humanos, pois ela está associada ao uso da matemática. \n",
    "\n",
    "2. Os inicios da Ciência\n",
    "\n",
    "2. O Mitos\n",
    "\n",
    "3. O Logos\n",
    "\n",
    "4. O método científico\n"
   ]
  },
  {
   "cell_type": "markdown",
   "metadata": {},
   "source": []
  }
 ],
 "metadata": {
  "language_info": {
   "name": "python"
  }
 },
 "nbformat": 4,
 "nbformat_minor": 2
}
