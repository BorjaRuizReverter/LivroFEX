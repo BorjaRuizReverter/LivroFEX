{
 "cells": [
  {
   "cell_type": "markdown",
   "metadata": {},
   "source": [
    "# CAPÍTULO 1: Contexto Histórico-Filosófico\n",
    "\n",
    "1. Introdução\n",
    "A grande maioria dos livros dedicados ao ensino de alguma disciplina da Ciência não entram nos detalhes das bases filosóficas que a sustentam. Esse recorte é geralmente necessário porque a matéria já é habitualmente bastante extensa. De fato, por exemplo, no caso da Física Geral, a disciplina é habitualmente separada em 4 extensos tomos, isso sem ainda entrar nos aspectos históricos ou filosóficos que envolvem os conteúdos. Essa separação habitual é até possível também porque qualquer disciplina científica possui uns sólidos alicerces matemáticos, nos quais fundamentar toda a teoria. Entretanto, numa disciplina como esta de Física Experimental, esse recorte não é possível. \n",
    "\n",
    "O problema nesta disciplina de Física Experimental radica em que, como seu próprio nome diz, ela é precisamente experimental e, sendo assim, alguns conteúdos não não podem se fundamentar na Matemática, já que ela se baseia na lógica, ou também chamado de **racionalismo**, a qual entra em contradição com o **empirismo**, que é que sustenta uma disciplina experimental. Desta maneira, ao não possuir alicerces matemáticos suficientes para construir uma teoria empirica, não resta outra que ir um passo atrás na árvore da Ciência e procurar tais fundamentos na Filosófia. Efetivamente, como veremos nos próximos capítulos, muitas definições e conceitos possuem sua base na Filosofía e não poderão ser entendidos se tal contexto não é explicado previamente.\n",
    "\n",
    "A Filósofia, entretanto, está atrelada a um contexto histórico e só pode ser entendida em profundidade se este é apresentado e explicado. Por causa disso, e devido também a todo o anterior, neste capítulo nos dedicaremos a entender o contexto histórico e filosófico da Física Experimental porque ao longo do livro serão feitas varias referências ao que será explicado neste primeiro capítulo.\n",
    "\n",
    "\n",
    "2. Racionalismo versus Empirismo\n",
    "\n",
    "\n",
    "Qualquer ser vivo age dessa maneira. Por exemplo, hoje em dia é habitual assistir experimentos in vitro durante os quais diferentes seres vivos, até alguns deles relativamente simples como insectos, agindo de maneira coletiva, são capaces de conseguir logros relativamente complexos como atingir um lugar complicado onde há alguma comida ou conseguir escapar de algum laberinto. Ainda se afirma que, devido a esso, certa espécie é inteligente, quando na verdade esses logros são conseguidos graças à observação. Isto é, qualquer especie usa seus sentidos, como a visão através de algúm orgão de recepção de ondas eletromagnéticas, a escuta através de algúm orgão de recepção de ondas de pressão, ou o tacto e o olfato capaces de interpretar sinais químicas de parceiros ou do ambiente, para extrair a máxima informação da Natureza ao seu redor. E ainda são capaces de lembrar como a ação de um parceiro esteve associada a um sucesso ou a um fracaso.\n",
    "\n",
    "Isto é, qualquer ser vivo por simples ou complexo que seja é capaz de usar os sentidos para entender a Natureza e extrair conhecimento certo a partir dela. Isso é o que em Filosofía se conhece por **empirismo**, sendo ainda um dos ramos mais importantes da mesma.\n",
    "\n",
    "Dentro dos seres vivos, o homo sapiens é a especie mais desenvolvida na face da Terra. Curiosamente, seu comportamento não dista demasiado de qualquer outro ser vivo. Efetivamente, desde os primórdios da humanidade, do australopitecus ao homo neodeardental, todos eles eram seres extremamente observadores e hábeis em interpretar o ambiente que os rodeava e, portanto, tremendamente empiristas. Entretanto, a especie humana se caracteriza por ter algo extraordinário, que a diferencia do resto das especies: **o uso da razão**, ou o que em Filosófia se conhece como **racionalismo**. O uso da razão é, efetivamente, apenas desenvolvida por humanos, pois ela está associada ao uso da matemática.\n",
    "\n",
    "3. Mitos versus Logos\n",
    "\n",
    "Da mesma maneira que, qualquer corpo em queda livre é empurrado até o chão sob um campo de gravidade na procura de um mínimo de energia potencial gravitacional, ou um dipolo, por simples que seja, se orienta espontaneamente no seno de um campo elétrico, até encontrar um mínimo de energia potencial elétrica, a vida, composta por moléculas orgânicas complexas, segue suas propias leis físicas (biofísicas neste caso), regidas pelos mesmos principios de optimização (maximização/minimização) de alguma grandeza física escalar relacionada. Não de maneira muito distante, os seres vivos seguem principios analogos, elevados a um nível superior de complexidade, pois todos eles procuram o máximo conforto usando o menor gasto de energia possível.\n",
    "\n",
    "Isso, entretanto, só é possivel sob um entendimento integral do ambiente ao redor e, para isso, eles precisam extrair a máxima informação da sua vizinhança. Como consequência, todos os seres vivos acabam se tornando entidades completamente adaptadas a seu ambiente. Poder agir da maneira mais eficiente póssivel é algo vítal; caso contrário, qualquer erro pode ser fatal.\n",
    "\n",
    "\n",
    "O uso da razão na especie humana não é algo que apareceu da noite para o dia. Ao contrario, tratou-se de um processo que levou milenios de evolução. \n",
    "\n",
    "Essa evolução foi possível graças às mudanças de habitos da especie humana. Inicialmente, os primeiros primates eram fundamentalmente caçadores-coletores; tarefas que consumiam integralmente um dos mais importantes recursos escassos que existem: o tempo. Nesse estágio, eles eram maiormente dominados pela Natureza, pois deviam migrar constantemente para optimizar recursos. Entretanto, a especialização e constante melhora das técnica e das ferramentas que empregavam permitiu uma radical mudança de hábitos. Eis que em algum momento da prehistória, o homem começou a se asentar em comunas permanentes, tipicamente perto de fontes de agua dulce e de terras productivas. Dessa maneira, não era mais necessário caçar ou recoletar, pois tudo podia ser produzido \"em casa\". E, sendo assim, ora o homem era quem dominava a Natureza e, com isso, aproveitar melhor o tempo. \n",
    "\n",
    "Essa mudança de hábitos trouxe uma vida menos arrisgada e extrema. A fontes de água próximas também incrementaram a higiene, diminuindo com isso o número de doenças, ou que provocou um aumento das populações.\n",
    "\n",
    "Isso, por sua vez, trouxe problemas de convivencia. Os homens começaram a precisar de regras escritas. Também, o maior tempo sobrante lhes permitia liberar sua curiosidade inata. Transmitir o conhecimento tornou-se também uma necessidade. A escrita em pedra já era usada desde o paleolítico. Entretanto, era necessário pode transportar e poder trocar documentos escritos. Por isso, de escrever nas paredes das cavernas, passou-se a escrever em rochas ou em peças de argila e finalmente em pergaminos, como antecesor ao papel. \n",
    "\n",
    "A escrita, ou melhor dito, a técnica para plasmar o conhecimiento e que o mesmo podesse ser transmitido de gerações em gerações, ou entre povos, foi revolucionário. De fato, poder escrever num documento ao alcance da mão permitia não só plasmar ideias, mas também visualizar mais profundamente os conceitos. Com isso, e o com maior tempo livre, o homem portanto podía se dedicar a tarefas menos físicas e mais racionais. \n",
    "\n",
    "Paralemente a evolução das técnicas, foi a evoluçãos do pensar (conceitos mais abstratos)\n",
    "\n",
    "4. O racionalismo: Platão \n",
    "\n",
    "    1. O Mundo das Ideias de Platão, onde se encontram todos os conceitos matemáticos e todos os conceitos ideais.\n",
    "    2. O Mundo Real, que seria o mundo físico no qual moramos; um mundo imperfeito, onde podemos encontrar elementos que se asemelhan aos que visualizamos idealmente. \n",
    "\n",
    "5. O empirismo: Descartes \n",
    "\n",
    "6. O método científico\n"
   ]
  }
 ],
 "metadata": {
  "language_info": {
   "name": "python"
  }
 },
 "nbformat": 4,
 "nbformat_minor": 2
}
