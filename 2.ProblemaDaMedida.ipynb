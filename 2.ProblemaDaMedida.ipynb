{
 "cells": [
  {
   "cell_type": "markdown",
   "metadata": {},
   "source": [
    "# CAPÍTULO 2. Problema da medida\n",
    "\n",
    "## 1. Introdução\n",
    "\n",
    "No capítulo anterior estudamos como, ao longo dos séculos, nosso entendimento da Natureza foi sendo aprimorado através de modelos cada vez más sólidos e coerentes. Esse aprimoramento porém não foi linear, se não em explosões de clarividência durante as quais o avanço inteletual foi notável. Essas épocas estão tipicamente associadas a um contexto de estabilidade e prosperidade econômica e muitas vezes estão também atreladas a alguma inovação específica.\n",
    "\n",
    "Esse processo foi curiosamente marcado por uma briga secular entre filósofos racionalistas e empiristas ao respeito de como gerar conhecimento certo. Foi então quando Descartes, no século 17, introduz o Método Científico, como um maneira empirica de testar se certa ideia é ou não fundamentada no mundo físico.\n",
    "\n",
    "Desde sua criação, o Método Científico tem marcado e caracterizado o que é Ciência, de outros dogmas ou esoterismos baseados na fe. O Método Científico é baseado na experimentação. Isto é, realizar medidas e conferir as mesmas batem com a hipotese teorica previamente estabelecida. Entretanto, quando analisamos em profundidade levar a cabo as medidas, nos deparamos com alguns problemas de indole filosófica. Isto é o que se conhece como Problema da Medida e a isto dedicaremos este capítulo.\n",
    "\n",
    "## 2. Problema da medida\n",
    "\n",
    "\n",
    "## 2. Definições\n",
    "\n",
    "### 2.1 O que significa medir\n",
    "O Método Científico é baseado na experimentação. Isto é, um experimentador, ou ainda ingeniero, deve ter o ingênio de criar um aparelho fiável com o qual poder medir para, a partir de aí, analisar qual relação funcional guardam as medidas e conferir se essa relação bate ou não com a formulada pela hipótese de partida.\n",
    "\n",
    "### 2.2 Observador\n",
    "\n",
    "### 2.3 Instrumento de medida\n",
    "Um instrumento de medida é um aparalho físico, portanto pertencente ao mundo real, que relaciona 2 propriedades qualitativas diferentes através de uma função lineal.\n",
    "\n",
    "que compara uma propriedade qualitativa conhecida com otra desconhecida através de uma relação matemática dada por alguma quantidade numérica.  \n",
    "\n",
    "> Por exemplo, "
   ]
  }
 ],
 "metadata": {
  "language_info": {
   "name": "python"
  }
 },
 "nbformat": 4,
 "nbformat_minor": 2
}
