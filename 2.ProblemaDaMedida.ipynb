{
 "cells": [
  {
   "cell_type": "markdown",
   "metadata": {},
   "source": [
    "# CAPÍTULO 2. Problema da medida\n",
    "\n",
    "## 1. Introdução\n",
    "\n",
    "Como analisamos no capítulo anterior, entender o ambiente é vital para qualquer espécie, incluida a especie humana. No caso particular da especie humana, o entedimento da Natureza foi melhorando cada vez mais ao longo dos séculos. Esse aprimoramento porém não foi linear, se não em explosões de clarividência durante as quais o avanço inteletual foi notável. Essas épocas estão tipicamente associadas a um contexto de estabilidade e prosperidade econômica e muitas vezes estão também atreladas a alguma inovação particular. Num deste períodos foi quando emergiu a corrente do logos, sentando as bases de um modelo melhor para a compreensão da Natureza, e o qual culmina na Renascença com a criação do Método Científico.\n",
    "\n",
    "Dada a controversia filosófica tradicional entre filósofos racionalista e empiristas ao respeito de como gerar conhecimento certo, o Método Cientifico estabelece claramente como proceder. De fato, até hoje em dia o Método Científico é usado pelos experimentadores para comprovar se certa hipótese, seja racionalista ou empirista, é sólida.\n",
    "\n",
    "O Método Científico é baseado na experimentação. Isto é, um experimentador, ou ainda ingeniero, deve ter o ingênio de criar um aparelho fiável com o qual poder medir para, a partir de aí, analisar qual relação funcional guardam as medidas e conferir se essa relação bate ou não com a formulada pela hipótese de partida.\n",
    "\n",
    "Isso tudo parece algo fácil porque estamos acostumados a dispor de réplicas infitamente melhoradas\n",
    "\n",
    "## 2. Definições\n",
    "\n",
    "### 2.1 O que significa medir\n",
    "\n",
    "### 2.2 Observador\n",
    "\n",
    "### 2.3 Instrumento de medida\n",
    "Um instrumento de medida é um aparalho físico, portanto pertencente ao mundo real, que relaciona 2 propriedades qualitativas diferentes através de uma função lineal.\n",
    "\n",
    "que compara uma propriedade qualitativa conhecida com otra desconhecida através de uma relação matemática dada por alguma quantidade numérica.  \n",
    "\n",
    "> Por exemplo, "
   ]
  }
 ],
 "metadata": {
  "language_info": {
   "name": "python"
  }
 },
 "nbformat": 4,
 "nbformat_minor": 2
}
