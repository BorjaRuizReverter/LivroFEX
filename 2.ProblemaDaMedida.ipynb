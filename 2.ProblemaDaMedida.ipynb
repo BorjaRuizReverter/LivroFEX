{
 "cells": [
  {
   "cell_type": "markdown",
   "metadata": {},
   "source": [
    "# CAPÍTULO 2. Problema da medida\n",
    "\n",
    "## 1. Introdução\n",
    "\n",
    "Como analisamos no capítulo anterior, entender o ambiente que a rodea, é vital para qualquer espécie, incluida a especie humana. O entedimento da Natureza foi aprimorado ao longo dos séculos, durante não-lineares. De fato, tal entendimento se produz em ondas de iluminismo, com base em épocas de estabilidade e prosperidade econômica, durante as quais o avanço inteletual é brilhante. Num deste períodos emerge a corrente do logos, que estabelece um modelo melhor para a compreensão da Natureza, e o qual culmina na renascença com a criação do Método Científico.\n",
    "\n",
    "Dada a controversia filosófica entre filósofos racionalista e empiristas ao respeito de como gerar conhecimento certo, o Método Cientifico senta as bases para isso. O Método Científico é usado pelos experimentadores para comprovar se certa hipótese, seja racionalista ou empirista, é sólida, sustentável e replicável. \n",
    "\n",
    "O Método Científico é baseado na experimentação. Isto é, um experimentador, ou ainda ingeniero, deve ter o ingênio de criar um aparelho fiável com o qual poder medir para, a partir de aí, analisar qual relação funcional guardam as medidas e conferir se essa relação bate ou não com a formulada pela hipótese de partida.\n",
    "\n",
    "Isso tudo parece algo fácil porque estamos acostumados a dispor de réplicas infitamente melhoradas\n",
    "\n",
    "## 2. Processo de medida\n",
    "\n",
    "## 2. Definições\n",
    "\n",
    "### 2.1 Observador\n",
    "\n",
    "### 2.2 Instrumento de medida\n",
    "Um instrumento de medida é um aparalho físico, portanto pertencente ao mundo real, que relaciona 2 propriedades qualitativas diferentes através de uma função lineal.\n",
    "\n",
    "que compara uma propriedade qualitativa conhecida com otra desconhecida através de uma relação matemática dada por alguma quantidade numérica.  \n",
    "\n",
    "> Por exemplo, "
   ]
  }
 ],
 "metadata": {
  "language_info": {
   "name": "python"
  }
 },
 "nbformat": 4,
 "nbformat_minor": 2
}
