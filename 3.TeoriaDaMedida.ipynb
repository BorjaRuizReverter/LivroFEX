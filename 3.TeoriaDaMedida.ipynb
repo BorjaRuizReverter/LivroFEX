{
 "cells": [
  {
   "cell_type": "markdown",
   "metadata": {},
   "source": [
    "# CAPÍTULO 3. Teoria da medida\n",
    "\n",
    "1. Introdução\n",
    "\n",
    "No capítulo anterior foi explicado o problema atrelado ao fato de medir. Aprendimos que ele é inevitável, pois é algo inerente ao proceso de medir e, sendo assim, não há outra opção se não aceitar esse fato e tentar quantificar a magnitude dos erros que sempre estaremos cometendo.\n",
    "\n",
    "2. Definições\n",
    "\n",
    "Chegou a hora de construir uma teoria útil para nossos propósitos. Uma teoría que permita:\n",
    "* Entender qualitativamente o tipo de erro que cometemos e,\n",
    "* Plasmar quantitativamente a magnitude dos mesmos.\n",
    "\n",
    "Qualquer teoría científica está apoiada por um arcabouço matemático e este, por sua vez, se fundamenta em definições. Sendo assim, devemos estabelecer as mesmas.\n",
    "\n",
    "Defini-se $x_0$ como o **valor verdadeiro de uma medida**. Supõe-se que ele sempre existe, mas\n",
    "\n",
    "\n",
    "\n",
    "10. Algarismos significativos"
   ]
  },
  {
   "cell_type": "markdown",
   "metadata": {},
   "source": []
  }
 ],
 "metadata": {
  "language_info": {
   "name": "python"
  }
 },
 "nbformat": 4,
 "nbformat_minor": 2
}
