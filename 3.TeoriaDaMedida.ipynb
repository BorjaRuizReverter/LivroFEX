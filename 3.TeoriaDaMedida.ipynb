{
 "cells": [
  {
   "cell_type": "markdown",
   "metadata": {},
   "source": [
    "# CAPÍTULO 3. Teoria da medida\n",
    "\n",
    "## 1. Introdução\n",
    "\n",
    "No capítulo anterior foi explicado o problema atrelado ao fato de medir. Aprendimos que ele é inevitável, pois é algo inerente ao proceso de medir e, sendo assim, não há outra opção se não aceitar esse fato e tentar quantificar a magnitude dos erros que sempre estaremos cometendo.\n",
    "\n",
    "## 2. Definições\n",
    "\n",
    "Chegou a hora de construir uma teoria útil para nossos propósitos. Uma teoría que permita:\n",
    "* Entender qualitativamente o tipo de erro que cometemos e,\n",
    "* Plasmar quantitativamente a magnitude dos mesmos.\n",
    "\n",
    "Qualquer teoría científica está apoiada por um arcabouço matemático e este, por sua vez, se fundamenta em definições. Sendo assim, devemos estabelecer as mesmas.\n",
    "\n",
    "* **Valor verdadeiro**. Defini-se o valor verdadeiro de uma medida como $x_0$. Por definição, supõe-se que ele sempre existe, mas nunca vai ser sabido. Dito de outro modo, o valor verdadeiro de uma medida não pertence a nosso mundo, se não ao mundo das ideias de Platão.\n",
    "\n",
    "    Por exemplo, será que o correito afirmar que a altura de alguém é, digamos, 1.77 cm? A resposta verdadeira é que não. Essa altura, se for, seria algo como 1.7752817329834234878992934234234...(e assim infinitamente) cm, mas não 1.77 cm ou 1.7700000000000000 (e assim infinitamente) cm. Fica claro então que a altura de alguém, o peso, a temperatura ou qualquer grandeza física associada a ela, ou de maneira geral, a qualquer objeto ou fenómeno é um número impossível de ser conhecido em sua integridade.\n",
    "\n",
    "* **Valor real**. Defini-se o valor real de uma medida (também chamado como **valor experimental de uma medida** ou directamente como **medida**) como $x$. Este valor é que se obtém após usar algúm aparelho experimental para realizar uma medida e o mesmo, ao contrário do valor verdadeiro, pertence a nosso mundo: o mundo real.\n",
    "* **Erro absoluto**. Defini-se o erro absoluto como a diferência, em valor absoluto, entre o valor real de uma medida e o valor verdadeiro:\n",
    "$$ \\Delta x \\equiv | x - x_0 | $$\n",
    "A definição do erro absoluto, e também seu conceito teoríco/filofósico, possui importantes consequências, as quais merece a pena ver em detalhe:\n",
    "1. O erro absoluto é um valor positivo por definição. \n",
    "2. A interpretação do mesmo é que se trata de uma distância euclidiana como, por exemplo, o raio de um círculo. Literalmente, $\\Delta x$ é a distância que separa o valor medido do seu valor verdadeiro ou ao contrário.\n",
    "3. Para averiguar o erro absoluto precisamos saber o valor medido, mas também o valor verdadeiro. Entretanto, como já foi dito, o valor verdadeiro de uma medida não pertence a nosso mundo e, sendo assim, é impósivel conhecer seu valor. Em consequência, o erro absoluto torna-se incalculável; uma equação com dois incógnitas. Para que então definir algo se não pode ser calculado? A resposta é $\\Delta x$ sim pode ser estimado, mas usando outra abordagem: a estatística.\n",
    "\n",
    "* **Erro relativo**. Defini-se o erro relativo como o quociente entre o erro absoluto e o valor verdadeiro. Isto é:\n",
    "\n",
    "$$ \\epsilon \\equiv \\frac{\\Delta x}{x_0} $$\n",
    "\n",
    "\n",
    "## 3. Aplicação\n",
    "\n",
    "Supondo um caso no qual \n",
    "\n",
    "No capítulo anterior aprendimos que toda vez que realizamos uma medida estamos comentendo um erro. E agora, uma vez que temos definido o erro absoluto, a pergunta que cabe seria: como aplicar a definição do erro absoluto na hora de medir?\n",
    "\n",
    "\n",
    "\n",
    "## 10. Algarismos significativos"
   ]
  }
 ],
 "metadata": {
  "language_info": {
   "name": "python"
  }
 },
 "nbformat": 4,
 "nbformat_minor": 2
}
